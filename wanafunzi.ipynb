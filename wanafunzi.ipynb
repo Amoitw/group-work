#reading CSV files
import csv
Wanafunzi_grades ="Students_Grading_Dataset.csv"
#with open ("Wanafunzi_grades","r") as f:
    #Wanafunzi_grades= f.readline()
    #print("Wanafunzi_grades")
with open (Wanafunzi_grades, newline="") as f:
    reader = csv.reader(f)
    for row in reader:
     print(row)
